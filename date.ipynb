{
 "cells": [
  {
   "cell_type": "code",
   "execution_count": 19,
   "metadata": {},
   "outputs": [],
   "source": [
    "import pandas as pd\n"
   ]
  },
  {
   "cell_type": "code",
   "execution_count": 20,
   "metadata": {},
   "outputs": [],
   "source": [
    "dates = pd.read_csv('./new_shooting_data.csv')"
   ]
  },
  {
   "cell_type": "code",
   "execution_count": 21,
   "metadata": {},
   "outputs": [
    {
     "name": "stdout",
     "output_type": "stream",
     "text": [
      "    date_key month day    weekday  year  season holiday_flag\n",
      "0          1     3  27     monday  2023  spring        false\n",
      "1          2     2  13     monday  2023  winter        false\n",
      "2          3     1  23     monday  2023  winter        false\n",
      "3          4     1  21   saturday  2023  winter        false\n",
      "4          5    11  22    tuesday  2022  autumn        false\n",
      "..       ...   ...  ..        ...   ...     ...          ...\n",
      "135      136     4  23   thursday  1987  spring        false\n",
      "136      137     8  20  wednesday  1986  summer        false\n",
      "137      138     7  18  wednesday  1984  summer        false\n",
      "138      139     6  29     friday  1984  summer        false\n",
      "139      140     8  20     friday  1982  summer        false\n",
      "\n",
      "[140 rows x 7 columns]\n"
     ]
    }
   ],
   "source": [
    "# Convert the date column to datetime format\n",
    "dates['date'] = pd.to_datetime(dates['date']) \n",
    "\n",
    "# Extract year, month, day, and weekday\n",
    "dates['year'] = dates['date'].dt.year\n",
    "dates['month'] = dates['date'].dt.month\n",
    "dates['day'] = dates['date'].dt.day\n",
    "dates['weekday'] = dates['date'].dt.day_name()\n",
    "\n",
    "# getting the season based on the month\n",
    "def get_season(month):\n",
    "    if 3 <= month <= 5:\n",
    "        return 'Spring'\n",
    "    elif 6 <= month <= 8:\n",
    "        return 'Summer'\n",
    "    elif 9 <= month <= 11:\n",
    "        return 'Autumn'\n",
    "    else:\n",
    "        return 'Winter'\n",
    "\n",
    "# create a 'season' column\n",
    "dates['season'] = dates['month'].apply(get_season)\n",
    "\n",
    "# list of holidays which are based on American culture as our data sources are based from America \n",
    "holidays = ['New Year', 'Independence Day', 'Thanksgiving', 'Christmas']\n",
    "\n",
    "# Create a holiday flag column\n",
    "dates['holiday_flag'] = dates['date'].dt.strftime('%m-%d').isin(['01-01', '07-04', '11-25', '12-25'])\n",
    "\n",
    "# create a date_key column\n",
    "dates['date_key'] = range(1, len(dates) + 1)\n",
    "\n",
    "# add the columns to the dates\n",
    "dates = dates[['date_key','month', 'day', 'weekday', 'year', 'season', 'holiday_flag']]\n",
    "\n",
    "dates = dates.apply(lambda x: x.astype(str).str.lower())\n",
    "\n",
    "dates.to_csv('date.csv', index=False)\n",
    "\n",
    "print(dates)\n"
   ]
  }
 ],
 "metadata": {
  "kernelspec": {
   "display_name": "Python 3",
   "language": "python",
   "name": "python3"
  },
  "language_info": {
   "codemirror_mode": {
    "name": "ipython",
    "version": 3
   },
   "file_extension": ".py",
   "mimetype": "text/x-python",
   "name": "python",
   "nbconvert_exporter": "python",
   "pygments_lexer": "ipython3",
   "version": "3.8.5"
  }
 },
 "nbformat": 4,
 "nbformat_minor": 2
}
