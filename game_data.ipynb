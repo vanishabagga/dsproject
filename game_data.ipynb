{
 "cells": [
  {
   "cell_type": "code",
   "execution_count": 2,
   "metadata": {},
   "outputs": [],
   "source": [
    "import pandas as pd"
   ]
  },
  {
   "cell_type": "code",
   "execution_count": 3,
   "metadata": {},
   "outputs": [],
   "source": [
    "data = pd.read_csv(\"./new_vgsales.csv\")"
   ]
  },
  {
   "cell_type": "code",
   "execution_count": 4,
   "metadata": {},
   "outputs": [
    {
     "name": "stdout",
     "output_type": "stream",
     "text": [
      "       video_game_key                                             title  \\\n",
      "0                   1                                        wii sports   \n",
      "1                   2                                 super mario bros.   \n",
      "2                   3                                    mario kart wii   \n",
      "3                   4                                 wii sports resort   \n",
      "4                   5                          pokemon red/pokemon blue   \n",
      "...               ...                                               ...   \n",
      "16593           16594                woody woodpecker in crazy castle 5   \n",
      "16594           16595                     men in black ii: alien escape   \n",
      "16595           16596  score international baja 1000: the official game   \n",
      "16596           16597                                        know how 2   \n",
      "16597           16598                                  spirits & spells   \n",
      "\n",
      "              genre platform   publisher  year  \n",
      "0            sports      wii    nintendo  2006  \n",
      "1          platform      nes    nintendo  1985  \n",
      "2            racing      wii    nintendo  2008  \n",
      "3            sports      wii    nintendo  2009  \n",
      "4      role-playing       gb    nintendo  1996  \n",
      "...             ...      ...         ...   ...  \n",
      "16593      platform      gba       kemco  2002  \n",
      "16594       shooter       gc  infogrames  2003  \n",
      "16595        racing      ps2  activision  2008  \n",
      "16596        puzzle       ds    7g//ames  2010  \n",
      "16597      platform      gba     wanadoo  2003  \n",
      "\n",
      "[16598 rows x 6 columns]\n"
     ]
    }
   ],
   "source": [
    "gamedata = pd.DataFrame()\n",
    "\n",
    "gamedata['title'] = data['name']  \n",
    "gamedata['genre'] = data['genre']  \n",
    "gamedata['platform'] = data['platform']  \n",
    "gamedata['publisher'] = data['publisher']\n",
    "gamedata['year'] = data['year'].fillna(0)\n",
    "gamedata['year'] = gamedata['year'].astype(int)\n",
    "gamedata['year'] = gamedata['year']\n",
    "\n",
    "gamedata['video_game_key'] = range(1, len(gamedata) + 1)\n",
    "\n",
    "gamedata = gamedata[['video_game_key', 'title', 'genre', 'platform', 'publisher', 'year']]\n",
    "\n",
    "gamedata.to_csv('gamedata.csv', index=False)\n",
    "\n",
    "print(gamedata)\n",
    "\n",
    "\n"
   ]
  },
  {
   "cell_type": "code",
   "execution_count": null,
   "metadata": {},
   "outputs": [],
   "source": []
  },
  {
   "cell_type": "code",
   "execution_count": null,
   "metadata": {},
   "outputs": [],
   "source": []
  }
 ],
 "metadata": {
  "kernelspec": {
   "display_name": "Python 3",
   "language": "python",
   "name": "python3"
  },
  "language_info": {
   "codemirror_mode": {
    "name": "ipython",
    "version": 3
   },
   "file_extension": ".py",
   "mimetype": "text/x-python",
   "name": "python",
   "nbconvert_exporter": "python",
   "pygments_lexer": "ipython3",
   "version": "3.9.6"
  }
 },
 "nbformat": 4,
 "nbformat_minor": 2
}
