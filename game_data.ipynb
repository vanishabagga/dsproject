{
 "cells": [
  {
   "cell_type": "code",
   "execution_count": 1,
   "metadata": {},
   "outputs": [
    {
     "name": "stderr",
     "output_type": "stream",
     "text": [
      "/var/folders/sb/0l1vm3yd4g9ftgyjqfjbtxvm0000gn/T/ipykernel_80466/4080736814.py:1: DeprecationWarning: \n",
      "Pyarrow will become a required dependency of pandas in the next major release of pandas (pandas 3.0),\n",
      "(to allow more performant data types, such as the Arrow string type, and better interoperability with other libraries)\n",
      "but was not found to be installed on your system.\n",
      "If this would cause problems for you,\n",
      "please provide us feedback at https://github.com/pandas-dev/pandas/issues/54466\n",
      "        \n",
      "  import pandas as pd\n"
     ]
    }
   ],
   "source": [
    "import pandas as pd"
   ]
  },
  {
   "cell_type": "code",
   "execution_count": 2,
   "metadata": {},
   "outputs": [],
   "source": [
    "data = pd.read_csv(\"prep_csv/new_vgsales.csv\")"
   ]
  },
  {
   "cell_type": "code",
   "execution_count": 3,
   "metadata": {},
   "outputs": [
    {
     "name": "stdout",
     "output_type": "stream",
     "text": [
      "       video_game_key                                             title  \\\n",
      "0                   1                                        wii sports   \n",
      "1                   2                                 super mario bros.   \n",
      "2                   3                                    mario kart wii   \n",
      "3                   4                                 wii sports resort   \n",
      "4                   5                          pokemon red/pokemon blue   \n",
      "...               ...                                               ...   \n",
      "16390           16391                woody woodpecker in crazy castle 5   \n",
      "16391           16392                     men in black ii: alien escape   \n",
      "16392           16393  score international baja 1000: the official game   \n",
      "16393           16394                                        know how 2   \n",
      "16394           16395                                  spirits & spells   \n",
      "\n",
      "              genre platform   publisher  year  \n",
      "0            sports      wii    nintendo  2006  \n",
      "1          platform      nes    nintendo  1985  \n",
      "2            racing      wii    nintendo  2008  \n",
      "3            sports      wii    nintendo  2009  \n",
      "4      role-playing       gb    nintendo  1996  \n",
      "...             ...      ...         ...   ...  \n",
      "16390      platform      gba       kemco  2002  \n",
      "16391       shooter       gc  infogrames  2003  \n",
      "16392        racing      ps2  activision  2008  \n",
      "16393        puzzle       ds    7g//ames  2010  \n",
      "16394      platform      gba     wanadoo  2003  \n",
      "\n",
      "[16395 rows x 6 columns]\n"
     ]
    }
   ],
   "source": [
    "gamedata = pd.DataFrame()\n",
    "\n",
    "gamedata['title'] = data['name']  \n",
    "gamedata['genre'] = data['genre']  \n",
    "gamedata['platform'] = data['platform']  \n",
    "gamedata['publisher'] = data['publisher']\n",
    "gamedata['year'] = data['year'].fillna(0)\n",
    "gamedata['year'] = gamedata['year'].astype(int)\n",
    "gamedata['year'] = gamedata['year']\n",
    "\n",
    "gamedata['video_game_key'] = range(1, len(gamedata) + 1)\n",
    "\n",
    "gamedata = gamedata[['video_game_key', 'title', 'genre', 'platform', 'publisher', 'year']]\n",
    "\n",
    "gamedata.to_csv('csv/gamedata.csv', index=False)\n",
    "\n",
    "print(gamedata)\n",
    "\n",
    "\n"
   ]
  },
  {
   "cell_type": "code",
   "execution_count": null,
   "metadata": {},
   "outputs": [],
   "source": []
  },
  {
   "cell_type": "code",
   "execution_count": null,
   "metadata": {},
   "outputs": [],
   "source": []
  }
 ],
 "metadata": {
  "kernelspec": {
   "display_name": "Python 3",
   "language": "python",
   "name": "python3"
  },
  "language_info": {
   "codemirror_mode": {
    "name": "ipython",
    "version": 3
   },
   "file_extension": ".py",
   "mimetype": "text/x-python",
   "name": "python",
   "nbconvert_exporter": "python",
   "pygments_lexer": "ipython3",
   "version": "3.9.6"
  }
 },
 "nbformat": 4,
 "nbformat_minor": 2
}
