{
 "cells": [
  {
   "cell_type": "code",
   "execution_count": 48,
   "metadata": {},
   "outputs": [],
   "source": [
    "import pandas as pd"
   ]
  },
  {
   "cell_type": "code",
   "execution_count": 49,
   "metadata": {},
   "outputs": [],
   "source": [
    "data = pd.read_csv(\"/Users/vanishabagga/Desktop/ds/dsproject/gamesalesfacttable_datelists.csv\")"
   ]
  },
  {
   "cell_type": "code",
   "execution_count": 50,
   "metadata": {},
   "outputs": [
    {
     "name": "stdout",
     "output_type": "stream",
     "text": [
      "       video_game_key                     date_key\n",
      "0                   1  [12, 13, 52, 101, 102, 103]\n",
      "1                   2                          NaN\n",
      "2                   3         [27, 28, 94, 95, 96]\n",
      "3                   4     [38, 39, 90, 91, 92, 93]\n",
      "4                   5                        [120]\n",
      "...               ...                          ...\n",
      "16390           16391                          NaN\n",
      "16391           16392                    [43, 107]\n",
      "16392           16393         [27, 28, 94, 95, 96]\n",
      "16393           16394                     [50, 89]\n",
      "16394           16395                    [43, 107]\n",
      "\n",
      "[16395 rows x 2 columns]\n"
     ]
    }
   ],
   "source": [
    "data = data.reset_index(drop=True) \n",
    "data['video_game_key'] = data.index + 1 \n",
    "\n",
    "data = data[['video_game_key', 'date_key']]\n",
    "data.to_csv('game_date_association.csv', index=False)\n",
    "\n",
    "print(data)\n",
    "\n",
    "\n",
    "\n",
    "\n"
   ]
  },
  {
   "cell_type": "code",
   "execution_count": null,
   "metadata": {},
   "outputs": [],
   "source": []
  },
  {
   "cell_type": "code",
   "execution_count": null,
   "metadata": {},
   "outputs": [],
   "source": []
  }
 ],
 "metadata": {
  "kernelspec": {
   "display_name": "Python 3",
   "language": "python",
   "name": "python3"
  },
  "language_info": {
   "codemirror_mode": {
    "name": "ipython",
    "version": 3
   },
   "file_extension": ".py",
   "mimetype": "text/x-python",
   "name": "python",
   "nbconvert_exporter": "python",
   "pygments_lexer": "ipython3",
   "version": "3.9.6"
  }
 },
 "nbformat": 4,
 "nbformat_minor": 2
}
