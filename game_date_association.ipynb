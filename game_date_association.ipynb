{
 "cells": [
  {
   "cell_type": "code",
   "execution_count": 42,
   "metadata": {},
   "outputs": [],
   "source": [
    "import pandas as pd\n",
    "import ast as ast"
   ]
  },
  {
   "cell_type": "code",
   "execution_count": 43,
   "metadata": {},
   "outputs": [],
   "source": [
    "data = pd.read_csv(\"/Users/vanishabagga/Documents/dsproject/game_date_association.csv\")"
   ]
  },
  {
   "cell_type": "code",
   "execution_count": 44,
   "metadata": {},
   "outputs": [
    {
     "name": "stdout",
     "output_type": "stream",
     "text": [
      "       video_game_key date_key\n",
      "0                   1       12\n",
      "1                   1       13\n",
      "2                   1       52\n",
      "3                   1      101\n",
      "4                   1      102\n",
      "...               ...      ...\n",
      "64136           16596       96\n",
      "64137           16597       50\n",
      "64138           16597       89\n",
      "64139           16598       43\n",
      "64140           16598      107\n",
      "\n",
      "[64141 rows x 2 columns]\n"
     ]
    }
   ],
   "source": [
    "def str_to_list(s):\n",
    "    if pd.isna(s):\n",
    "        return []\n",
    "    try:\n",
    "        return ast.literal_eval(s)\n",
    "    except (ValueError, SyntaxError):\n",
    "        return []\n",
    "\n",
    "data['date_key'] = data['date_key'].apply(str_to_list)\n",
    "\n",
    "exploded_data = data[data['date_key'].map(bool)]\n",
    "\n",
    "df_exploded = exploded_data.explode('date_key', ignore_index=True)\n",
    "\n",
    "df_exploded.to_csv('game_date_association_cleaned.csv', index=False)\n",
    "\n",
    "print(df_exploded)\n",
    "\n",
    "\n"
   ]
  },
  {
   "cell_type": "code",
   "execution_count": null,
   "metadata": {},
   "outputs": [],
   "source": []
  },
  {
   "cell_type": "code",
   "execution_count": null,
   "metadata": {},
   "outputs": [],
   "source": []
  }
 ],
 "metadata": {
  "kernelspec": {
   "display_name": "Python 3",
   "language": "python",
   "name": "python3"
  },
  "language_info": {
   "codemirror_mode": {
    "name": "ipython",
    "version": 3
   },
   "file_extension": ".py",
   "mimetype": "text/x-python",
   "name": "python",
   "nbconvert_exporter": "python",
   "pygments_lexer": "ipython3",
   "version": "3.9.6"
  }
 },
 "nbformat": 4,
 "nbformat_minor": 2
}
