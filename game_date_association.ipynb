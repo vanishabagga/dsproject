{
 "cells": [
  {
   "cell_type": "code",
   "execution_count": 1,
   "metadata": {},
   "outputs": [
    {
     "name": "stderr",
     "output_type": "stream",
     "text": [
      "/var/folders/sb/0l1vm3yd4g9ftgyjqfjbtxvm0000gn/T/ipykernel_57665/4080736814.py:1: DeprecationWarning: \n",
      "Pyarrow will become a required dependency of pandas in the next major release of pandas (pandas 3.0),\n",
      "(to allow more performant data types, such as the Arrow string type, and better interoperability with other libraries)\n",
      "but was not found to be installed on your system.\n",
      "If this would cause problems for you,\n",
      "please provide us feedback at https://github.com/pandas-dev/pandas/issues/54466\n",
      "        \n",
      "  import pandas as pd\n"
     ]
    }
   ],
   "source": [
    "import pandas as pd"
   ]
  },
  {
   "cell_type": "code",
   "execution_count": 2,
   "metadata": {},
   "outputs": [],
   "source": [
    "data = pd.read_csv(\"/Users/vanishabagga/Documents/dsproject/game_date_association.csv\")"
   ]
  },
  {
   "cell_type": "code",
   "execution_count": 3,
   "metadata": {},
   "outputs": [
    {
     "name": "stdout",
     "output_type": "stream",
     "text": [
      "       video_game_key date_key\n",
      "0                   1       12\n",
      "1                   1       13\n",
      "2                   1       52\n",
      "3                   1      101\n",
      "4                   1      102\n",
      "...               ...      ...\n",
      "64136           16596       96\n",
      "64137           16597       50\n",
      "64138           16597       89\n",
      "64139           16598       43\n",
      "64140           16598      107\n",
      "\n",
      "[64141 rows x 2 columns]\n"
     ]
    }
   ],
   "source": [
    "def str_to_list(s):\n",
    "    if pd.isna(s):\n",
    "        return []\n",
    "    s = s.strip('[]')\n",
    "    return [int(item.strip()) for item in s.split(',') if item]\n",
    "\n",
    "data['date_key'] = data['date_key'].apply(str_to_list)\n",
    "\n",
    "exploded_data = data.explode('date_key')\n",
    "\n",
    "exploded_data.dropna(subset=['date_key'], inplace=True)\n",
    "\n",
    "exploded_data.reset_index(drop=True, inplace=True)\n",
    "\n",
    "exploded_data.to_csv('game_date_association_cleaned.csv', index=False)\n",
    "\n",
    "print(exploded_data)\n",
    "\n",
    "\n"
   ]
  },
  {
   "cell_type": "code",
   "execution_count": null,
   "metadata": {},
   "outputs": [],
   "source": []
  },
  {
   "cell_type": "code",
   "execution_count": null,
   "metadata": {},
   "outputs": [],
   "source": []
  }
 ],
 "metadata": {
  "kernelspec": {
   "display_name": "Python 3",
   "language": "python",
   "name": "python3"
  },
  "language_info": {
   "codemirror_mode": {
    "name": "ipython",
    "version": 3
   },
   "file_extension": ".py",
   "mimetype": "text/x-python",
   "name": "python",
   "nbconvert_exporter": "python",
   "pygments_lexer": "ipython3",
   "version": "3.9.6"
  }
 },
 "nbformat": 4,
 "nbformat_minor": 2
}
