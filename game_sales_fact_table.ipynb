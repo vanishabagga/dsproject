{
 "cells": [
  {
   "cell_type": "code",
   "execution_count": 17,
   "metadata": {},
   "outputs": [],
   "source": [
    "import pandas as pd\n"
   ]
  },
  {
   "cell_type": "code",
   "execution_count": 18,
   "metadata": {},
   "outputs": [],
   "source": [
    "game_data = pd.read_csv('csv/gamedata.csv')\n",
    "\n",
    "date_data = pd.read_csv('csv/date.csv')\n",
    "\n",
    "vgsales_data = pd.read_csv('prep_csv/new_vgsales.csv')"
   ]
  },
  {
   "cell_type": "code",
   "execution_count": 19,
   "metadata": {},
   "outputs": [
    {
     "name": "stdout",
     "output_type": "stream",
     "text": [
      "       video_game_key  game_key  na_sales  eu_sales  jp_sales  other_sales  \\\n",
      "0                   1         1     41.49     29.02      3.77         8.46   \n",
      "1                   2         2     29.08      3.58      6.81         0.77   \n",
      "2                   3         3     15.85     12.88      3.79         3.31   \n",
      "3                   4         4     15.75     11.01      3.28         2.96   \n",
      "4                   5         5     11.27      8.89     10.22         1.00   \n",
      "...               ...       ...       ...       ...       ...          ...   \n",
      "16390           16391     16391      0.01      0.00      0.00         0.00   \n",
      "16391           16392     16392      0.01      0.00      0.00         0.00   \n",
      "16392           16393     16393      0.00      0.00      0.00         0.00   \n",
      "16393           16394     16394      0.00      0.01      0.00         0.00   \n",
      "16394           16395     16395      0.01      0.00      0.00         0.00   \n",
      "\n",
      "       global_sales                     date_key  \n",
      "0             82.74  [12, 13, 52, 101, 102, 103]  \n",
      "1             40.24                          NaN  \n",
      "2             35.82         [27, 28, 94, 95, 96]  \n",
      "3             33.00     [38, 39, 90, 91, 92, 93]  \n",
      "4             31.37                        [120]  \n",
      "...             ...                          ...  \n",
      "16390          0.01                          NaN  \n",
      "16391          0.01                    [43, 107]  \n",
      "16392          0.01         [27, 28, 94, 95, 96]  \n",
      "16393          0.01                     [50, 89]  \n",
      "16394          0.01                    [43, 107]  \n",
      "\n",
      "[16395 rows x 8 columns]\n"
     ]
    }
   ],
   "source": [
    "# Group by 'year' and aggregate 'date_key' values into lists\n",
    "grouped_dates = date_data.groupby('year')['date_key'].apply(list).reset_index()\n",
    "\n",
    "# Merge vgsales_data with aggregated grouped_dates on 'year'/'year' column\n",
    "merged_data = pd.merge(vgsales_data, grouped_dates, left_on='year', right_on='year', how='left')\n",
    "\n",
    "\n",
    "\n",
    "merged_data.drop(['year', 'rank', 'name', 'platform', 'genre', 'publisher'], axis=1, inplace=True)\n",
    "\n",
    "merged_data['game_key'] = vgsales_data['rank']\n",
    "\n",
    "merged_data['video_game_key'] = game_data['video_game_key']\n",
    "\n",
    "\n",
    "merged_data = merged_data[['video_game_key', 'game_key', 'na_sales', 'eu_sales', 'jp_sales', 'other_sales', 'global_sales', 'date_key']]\n",
    "\n",
    "print(merged_data)\n",
    "\n",
    "merged_data.to_csv('prep_csv/gamesalesfacttable_datelists.csv', index=False)\n",
    "\n",
    "merged_data = merged_data[['video_game_key', 'game_key', 'na_sales', 'eu_sales', 'jp_sales', 'other_sales', 'global_sales']]\n",
    "\n",
    "merged_data.to_csv('csv/gamesalesfacttable.csv', index=False)\n",
    "\n",
    "\n"
   ]
  },
  {
   "cell_type": "code",
   "execution_count": null,
   "metadata": {},
   "outputs": [],
   "source": []
  },
  {
   "cell_type": "code",
   "execution_count": null,
   "metadata": {},
   "outputs": [],
   "source": []
  }
 ],
 "metadata": {
  "kernelspec": {
   "display_name": "Python 3",
   "language": "python",
   "name": "python3"
  },
  "language_info": {
   "codemirror_mode": {
    "name": "ipython",
    "version": 3
   },
   "file_extension": ".py",
   "mimetype": "text/x-python",
   "name": "python",
   "nbconvert_exporter": "python",
   "pygments_lexer": "ipython3",
   "version": "3.9.6"
  }
 },
 "nbformat": 4,
 "nbformat_minor": 2
}
