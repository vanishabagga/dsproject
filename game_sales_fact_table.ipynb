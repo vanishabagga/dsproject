{
 "cells": [
  {
   "cell_type": "code",
   "execution_count": 1,
   "metadata": {},
   "outputs": [
    {
     "name": "stderr",
     "output_type": "stream",
     "text": [
      "/var/folders/sb/0l1vm3yd4g9ftgyjqfjbtxvm0000gn/T/ipykernel_58451/2035458946.py:1: DeprecationWarning: \n",
      "Pyarrow will become a required dependency of pandas in the next major release of pandas (pandas 3.0),\n",
      "(to allow more performant data types, such as the Arrow string type, and better interoperability with other libraries)\n",
      "but was not found to be installed on your system.\n",
      "If this would cause problems for you,\n",
      "please provide us feedback at https://github.com/pandas-dev/pandas/issues/54466\n",
      "        \n",
      "  import pandas as pd\n"
     ]
    }
   ],
   "source": [
    "import pandas as pd\n"
   ]
  },
  {
   "cell_type": "code",
   "execution_count": 2,
   "metadata": {},
   "outputs": [],
   "source": [
    "game_data = pd.read_csv(\"gamedata.csv\")\n",
    "\n",
    "date_data = pd.read_csv(\"date.csv\")\n",
    "\n",
    "vgsales_data = pd.read_csv(\"new_vgsales.csv\")"
   ]
  },
  {
   "cell_type": "code",
   "execution_count": 6,
   "metadata": {},
   "outputs": [
    {
     "name": "stdout",
     "output_type": "stream",
     "text": [
      "       video_game_key  game_key  na_sales  eu_sales  jp_sales  other_sales  \\\n",
      "0                   1         1     41.49     29.02      3.77         8.46   \n",
      "1                   2         2     29.08      3.58      6.81         0.77   \n",
      "2                   3         3     15.85     12.88      3.79         3.31   \n",
      "3                   4         4     15.75     11.01      3.28         2.96   \n",
      "4                   5         5     11.27      8.89     10.22         1.00   \n",
      "...               ...       ...       ...       ...       ...          ...   \n",
      "16593           16594     16596      0.01      0.00      0.00         0.00   \n",
      "16594           16595     16597      0.01      0.00      0.00         0.00   \n",
      "16595           16596     16598      0.00      0.00      0.00         0.00   \n",
      "16596           16597     16599      0.00      0.01      0.00         0.00   \n",
      "16597           16598     16600      0.01      0.00      0.00         0.00   \n",
      "\n",
      "       global_sales  \n",
      "0             82.74  \n",
      "1             40.24  \n",
      "2             35.82  \n",
      "3             33.00  \n",
      "4             31.37  \n",
      "...             ...  \n",
      "16593          0.01  \n",
      "16594          0.01  \n",
      "16595          0.01  \n",
      "16596          0.01  \n",
      "16597          0.01  \n",
      "\n",
      "[16598 rows x 7 columns]\n"
     ]
    }
   ],
   "source": [
    "# Group by 'year' and aggregate 'date_key' values into lists\n",
    "grouped_dates = date_data.groupby('year')['date_key'].apply(list).reset_index()\n",
    "\n",
    "# Merge vgsales_data with aggregated grouped_dates on 'year'/'year' column\n",
    "merged_data = pd.merge(vgsales_data, grouped_dates, left_on='year', right_on='year', how='left')\n",
    "\n",
    "\n",
    "\n",
    "merged_data.drop(['year', 'rank', 'name', 'platform', 'genre', 'publisher'], axis=1, inplace=True)\n",
    "\n",
    "merged_data['game_key'] = vgsales_data['rank']\n",
    "\n",
    "merged_data['video_game_key'] = game_data['video_game_key']\n",
    "\n",
    "\n",
    "merged_data = merged_data[['video_game_key', 'game_key', 'na_sales', 'eu_sales', 'jp_sales', 'other_sales', 'global_sales']]\n",
    "\n",
    "\n",
    "\n",
    "print(merged_data)\n",
    "\n",
    "merged_data.to_csv('gamesalesfacttable.csv', index=False)\n",
    "\n",
    "\n"
   ]
  },
  {
   "cell_type": "code",
   "execution_count": null,
   "metadata": {},
   "outputs": [],
   "source": []
  },
  {
   "cell_type": "code",
   "execution_count": null,
   "metadata": {},
   "outputs": [],
   "source": []
  }
 ],
 "metadata": {
  "kernelspec": {
   "display_name": "Python 3",
   "language": "python",
   "name": "python3"
  },
  "language_info": {
   "codemirror_mode": {
    "name": "ipython",
    "version": 3
   },
   "file_extension": ".py",
   "mimetype": "text/x-python",
   "name": "python",
   "nbconvert_exporter": "python",
   "pygments_lexer": "ipython3",
   "version": "3.9.6"
  }
 },
 "nbformat": 4,
 "nbformat_minor": 2
}
