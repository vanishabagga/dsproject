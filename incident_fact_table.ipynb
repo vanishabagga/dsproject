{
 "cells": [
  {
   "cell_type": "code",
   "execution_count": 1,
   "metadata": {},
   "outputs": [
    {
     "name": "stderr",
     "output_type": "stream",
     "text": [
      "/var/folders/sb/0l1vm3yd4g9ftgyjqfjbtxvm0000gn/T/ipykernel_83387/2035458946.py:1: DeprecationWarning: \n",
      "Pyarrow will become a required dependency of pandas in the next major release of pandas (pandas 3.0),\n",
      "(to allow more performant data types, such as the Arrow string type, and better interoperability with other libraries)\n",
      "but was not found to be installed on your system.\n",
      "If this would cause problems for you,\n",
      "please provide us feedback at https://github.com/pandas-dev/pandas/issues/54466\n",
      "        \n",
      "  import pandas as pd\n"
     ]
    }
   ],
   "source": [
    "import pandas as pd\n"
   ]
  },
  {
   "cell_type": "code",
   "execution_count": 2,
   "metadata": {},
   "outputs": [],
   "source": [
    "participant_data = pd.read_csv('csv/participant.csv')\n",
    "\n",
    "date_data = pd.read_csv('csv/date.csv')\n",
    "\n",
    "location_data = pd.read_csv('csv/location.csv')\n",
    "\n",
    "type_of_gun_data = pd.read_csv('csv/type_of_gun.csv')\n",
    "\n",
    "bigdatashooting =  pd.read_csv('prep_csv/new_shooting_data.csv')"
   ]
  },
  {
   "cell_type": "code",
   "execution_count": 3,
   "metadata": {},
   "outputs": [],
   "source": [
    "incidentfacttable = pd.DataFrame()\n",
    "\n",
    "incidentfacttable['case_key'] = bigdatashooting['case_key']\n",
    "incidentfacttable['participant_date'] = participant_data['participant_key']\n",
    "incidentfacttable['date_key'] = date_data['date_key']\n",
    "incidentfacttable['location_key'] = location_data['location_key']\n",
    "incidentfacttable['num_injured'] = bigdatashooting['injured']\n",
    "\n",
    "incidentfacttable['num_deaths'] = bigdatashooting['fatalities']\n",
    "\n",
    "merged_df_og = pd.merge(type_of_gun_data, bigdatashooting, left_on=['gun_type', 'legal_status'], right_on=['weapon_details', 'weapons_obtained_legally'], how='inner')\n",
    "\n",
    "incidentfacttable['gun_key'] = merged_df_og['gun_key']\n",
    "\n",
    "\n",
    "incidentfacttable.to_csv('csv/incidentfacttable.csv', index=False)\n"
   ]
  },
  {
   "cell_type": "code",
   "execution_count": null,
   "metadata": {},
   "outputs": [],
   "source": []
  },
  {
   "cell_type": "code",
   "execution_count": null,
   "metadata": {},
   "outputs": [],
   "source": []
  }
 ],
 "metadata": {
  "kernelspec": {
   "display_name": "Python 3",
   "language": "python",
   "name": "python3"
  },
  "language_info": {
   "codemirror_mode": {
    "name": "ipython",
    "version": 3
   },
   "file_extension": ".py",
   "mimetype": "text/x-python",
   "name": "python",
   "nbconvert_exporter": "python",
   "pygments_lexer": "ipython3",
   "version": "3.9.6"
  }
 },
 "nbformat": 4,
 "nbformat_minor": 2
}
