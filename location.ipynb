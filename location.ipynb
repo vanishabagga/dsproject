{
 "cells": [
  {
   "cell_type": "code",
   "execution_count": 1,
   "metadata": {},
   "outputs": [
    {
     "name": "stderr",
     "output_type": "stream",
     "text": [
      "/var/folders/sb/0l1vm3yd4g9ftgyjqfjbtxvm0000gn/T/ipykernel_83376/4080736814.py:1: DeprecationWarning: \n",
      "Pyarrow will become a required dependency of pandas in the next major release of pandas (pandas 3.0),\n",
      "(to allow more performant data types, such as the Arrow string type, and better interoperability with other libraries)\n",
      "but was not found to be installed on your system.\n",
      "If this would cause problems for you,\n",
      "please provide us feedback at https://github.com/pandas-dev/pandas/issues/54466\n",
      "        \n",
      "  import pandas as pd\n"
     ]
    }
   ],
   "source": [
    "import pandas as pd"
   ]
  },
  {
   "cell_type": "code",
   "execution_count": 2,
   "metadata": {},
   "outputs": [],
   "source": [
    "data = pd.read_csv('prep_csv/new_shooting_data.csv')"
   ]
  },
  {
   "cell_type": "code",
   "execution_count": 3,
   "metadata": {},
   "outputs": [
    {
     "name": "stdout",
     "output_type": "stream",
     "text": [
      "     location_key       state city_or_county location_of_shooting   latitude  \\\n",
      "0               1   tennessee      nashville               school  36.093056   \n",
      "1               2    michigan   east lansing               school  42.732620   \n",
      "2               3  california  half moon bay            workplace  37.463640   \n",
      "3               4  california  monterey park                other  34.061944   \n",
      "4               5    virginia     chesapeake            workplace  36.772778   \n",
      "..            ...         ...            ...                  ...        ...   \n",
      "135           136     florida       palm bay                other  28.033189   \n",
      "136           137    oklahoma         edmond            workplace  35.667201   \n",
      "137           138  california     san ysidro                other  32.552001   \n",
      "138           139       texas         dallas                other  32.925166   \n",
      "139           140     florida          miami                other  25.796491   \n",
      "\n",
      "      longitude  \n",
      "0    -86.825556  \n",
      "1    -84.478670  \n",
      "2   -122.429240  \n",
      "3   -118.123611  \n",
      "4    -76.248889  \n",
      "..          ...  \n",
      "135  -80.642970  \n",
      "136  -97.429370  \n",
      "137 -117.043081  \n",
      "138  -96.838676  \n",
      "139  -80.226683  \n",
      "\n",
      "[140 rows x 6 columns]\n"
     ]
    }
   ],
   "source": [
    "locationdata = pd.DataFrame()\n",
    "\n",
    "\n",
    "locationdata['state'] = data['state']  \n",
    "locationdata['city_or_county'] = data['city']  \n",
    "locationdata['location_of_shooting'] = data['location.1']  \n",
    "locationdata['latitude'] = data['latitude']\n",
    "locationdata['longitude'] = data['longitude']\n",
    "\n",
    "locationdata['location_key'] = range(1, len(locationdata) + 1)\n",
    "\n",
    "locationdata = locationdata[['location_key', 'state', 'city_or_county', 'location_of_shooting', 'latitude', 'longitude']]\n",
    "\n",
    "\n",
    "\n",
    "locationdata.to_csv('csv/location.csv', index=False)\n",
    "\n",
    "print(locationdata)"
   ]
  }
 ],
 "metadata": {
  "kernelspec": {
   "display_name": "Python 3",
   "language": "python",
   "name": "python3"
  },
  "language_info": {
   "codemirror_mode": {
    "name": "ipython",
    "version": 3
   },
   "file_extension": ".py",
   "mimetype": "text/x-python",
   "name": "python",
   "nbconvert_exporter": "python",
   "pygments_lexer": "ipython3",
   "version": "3.9.6"
  }
 },
 "nbformat": 4,
 "nbformat_minor": 2
}
