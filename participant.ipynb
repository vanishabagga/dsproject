{
 "cells": [
  {
   "cell_type": "code",
   "execution_count": 7,
   "metadata": {},
   "outputs": [],
   "source": [
    "import pandas as pd"
   ]
  },
  {
   "cell_type": "code",
   "execution_count": 8,
   "metadata": {},
   "outputs": [],
   "source": [
    "data = pd.read_csv('./new_shooting_data.csv')"
   ]
  },
  {
   "cell_type": "code",
   "execution_count": 9,
   "metadata": {},
   "outputs": [
    {
     "name": "stdout",
     "output_type": "stream",
     "text": [
      "     participant_key                                          name     race  \\\n",
      "0                  1                                   audrey hale  unknown   \n",
      "1                  2                              anthony d. mcrae    black   \n",
      "2                  3                                   chunli zhao    asian   \n",
      "3                  4                                  huu can tran    asian   \n",
      "4                  5                                    andre bing    black   \n",
      "..               ...                                           ...      ...   \n",
      "135              136               retired librarian william cruse    white   \n",
      "136              137                postal worker patrick sherrill    white   \n",
      "137              138                          james oliver huberty    white   \n",
      "138              139                           abdelkrim belachheb    white   \n",
      "139              140  junior high school teacher carl robert brown    white   \n",
      "\n",
      "      age age_group gender  health_flag  \\\n",
      "0    28.0  above 18      x        False   \n",
      "1    43.0  above 18      m        False   \n",
      "2    67.0  above 18      m        False   \n",
      "3    72.0  above 18      m         True   \n",
      "4    31.0  above 18      m        False   \n",
      "..    ...       ...    ...          ...   \n",
      "135  59.0  above 18   male         True   \n",
      "136  44.0  above 18   male         True   \n",
      "137  41.0  above 18   male         True   \n",
      "138  39.0  above 18   male         True   \n",
      "139  51.0  above 18   male         True   \n",
      "\n",
      "                                  incident_description  \n",
      "0    who was a former student at the private covena...  \n",
      "1    opened fire at berkey hall and the msu union, ...  \n",
      "2    suspected of carrying out the attacks at a mus...  \n",
      "3    fled the scene in a white van and later shot h...  \n",
      "4    who worked as a supervisor at the store, opene...  \n",
      "..                                                 ...  \n",
      "135  was paranoid neighbors gossiped that he was ga...  \n",
      "136  opened fire at a post office before committing...  \n",
      "137  opened fire in a mcdonald's restaurant before ...  \n",
      "138  opened fire at an upscale nightclub after a wo...  \n",
      "139  opened fire inside a welding shop and was late...  \n",
      "\n",
      "[140 rows x 8 columns]\n"
     ]
    }
   ],
   "source": [
    "participantdata = pd.DataFrame()\n",
    "\n",
    "participantdata['name'] = data['name']  \n",
    "participantdata['race'] = data['race']\n",
    "participantdata['age'] = data['age_of_shooter']\n",
    "participantdata['age_group'] = data['age_group']\n",
    "participantdata['gender'] = data['gender']\n",
    "participantdata['health_status'] = data['mental_health_details']\n",
    "participantdata['incident_description'] = data['incident_description']\n",
    "\n",
    "participantdata['participant_key'] = range(1, len(participantdata) + 1)\n",
    "\n",
    "participantdata['health_flag'] = participantdata['health_status'].apply(lambda x: False if x.lower() == 'unknown' else True)\n",
    "\n",
    "participantdata = participantdata[['participant_key', 'name', 'race', 'age', 'age_group' ,'gender', 'health_flag', 'incident_description']]\n",
    "\n",
    "participantdata.to_csv('participant.csv', index=False)\n",
    "\n",
    "print(participantdata)"
   ]
  }
 ],
 "metadata": {
  "kernelspec": {
   "display_name": "Python 3",
   "language": "python",
   "name": "python3"
  },
  "language_info": {
   "codemirror_mode": {
    "name": "ipython",
    "version": 3
   },
   "file_extension": ".py",
   "mimetype": "text/x-python",
   "name": "python",
   "nbconvert_exporter": "python",
   "pygments_lexer": "ipython3",
   "version": "3.9.6"
  }
 },
 "nbformat": 4,
 "nbformat_minor": 2
}
