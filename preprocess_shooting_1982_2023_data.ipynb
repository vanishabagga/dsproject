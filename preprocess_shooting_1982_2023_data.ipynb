{
 "cells": [
  {
   "cell_type": "code",
   "execution_count": 1,
   "metadata": {},
   "outputs": [],
   "source": [
    "import pandas as pd\n",
    "import numpy as np\n"
   ]
  },
  {
   "cell_type": "code",
   "execution_count": 2,
   "metadata": {},
   "outputs": [],
   "source": [
    "df = pd.read_csv('prep_csv/shooting-1982-2023.csv')"
   ]
  },
  {
   "cell_type": "code",
   "execution_count": 3,
   "metadata": {},
   "outputs": [],
   "source": [
    "# Replace '-' with 'unknown' in the entire DataFrame\n",
    "df.replace('-', 'unknown', inplace=True)\n",
    "\n",
    "# Remove duplicate rows\n",
    "df.drop_duplicates(inplace=True)\n",
    "\n",
    "# Convert the 'date' column to datetime format\n",
    "df['date'] = pd.to_datetime(df['date'], errors='coerce')\n",
    "\n",
    "#df['date'] = df['date'].dt.strftime('%m-%d-%Y')\n",
    "\n",
    "# Split the 'location' column into separate columns for city and state\n",
    "df[['city', 'state']] = df['location'].str.split(', ', expand=True)\n",
    "\n",
    "# Split the 'summary' column into separate columns for name, age, and incident description\n",
    "\n",
    "df['name'] = df['summary'].str.extract(r'^([^,]+), \\d+')\n",
    "df['age'] = df['summary'].str.extract(r'\\b(\\d+)\\b')\n",
    "\n",
    "# Remove 'years-old' from the age column and convert it to numeric\n",
    "df['age'] = df['age'].str.extract(r'^(\\d+)', expand=False)\n",
    "df['age'] = pd.to_numeric(df['age'], errors='coerce')\n",
    "\n",
    "# Extract the incident description\n",
    "df['incident_description'] = df['summary'].str.split(', ', 2).str[-1]\n",
    "\n",
    "# Drop unnecessary columns\n",
    "df.drop(columns=['summary', 'location'], inplace=True)\n",
    "\n",
    "# Convert age_of_shooter to numeric\n",
    "df['age_of_shooter'] = pd.to_numeric(df['age_of_shooter'], errors='coerce')\n",
    "\n",
    "# Add age_group column based on age_of_shooter column\n",
    "df['age_group'] = np.where(df['age_of_shooter'] > 18, 'above 18', 'not 18+')\n",
    "\n",
    "# add case_key column\n",
    "df['case_key'] = range(1, len(df) + 1)\n",
    "\n",
    "df['weapons_obtained_legally'] = df['weapons_obtained_legally'].apply(lambda x: 'yes' if x.lower() == 'yes' else 'no')\n",
    "\n",
    "# make all values in the DataFrame lowercase\n",
    "df = df.apply(lambda x: x.astype(str).str.lower())\n",
    "\n",
    "# Save the modified DataFrame to a new CSV file\n",
    "df.to_csv('prep_csv/new_shooting_data.csv', index=False)\n"
   ]
  }
 ],
 "metadata": {
  "kernelspec": {
   "display_name": "Python 3",
   "language": "python",
   "name": "python3"
  },
  "language_info": {
   "codemirror_mode": {
    "name": "ipython",
    "version": 3
   },
   "file_extension": ".py",
   "mimetype": "text/x-python",
   "name": "python",
   "nbconvert_exporter": "python",
   "pygments_lexer": "ipython3",
   "version": "3.8.5"
  }
 },
 "nbformat": 4,
 "nbformat_minor": 2
}
