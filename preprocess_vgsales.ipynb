{
 "cells": [
  {
   "cell_type": "code",
   "execution_count": 1,
   "metadata": {},
   "outputs": [
    {
     "name": "stderr",
     "output_type": "stream",
     "text": [
      "/var/folders/sb/0l1vm3yd4g9ftgyjqfjbtxvm0000gn/T/ipykernel_55956/4080736814.py:1: DeprecationWarning: \n",
      "Pyarrow will become a required dependency of pandas in the next major release of pandas (pandas 3.0),\n",
      "(to allow more performant data types, such as the Arrow string type, and better interoperability with other libraries)\n",
      "but was not found to be installed on your system.\n",
      "If this would cause problems for you,\n",
      "please provide us feedback at https://github.com/pandas-dev/pandas/issues/54466\n",
      "        \n",
      "  import pandas as pd\n"
     ]
    }
   ],
   "source": [
    "import pandas as pd"
   ]
  },
  {
   "cell_type": "code",
   "execution_count": 2,
   "metadata": {},
   "outputs": [],
   "source": [
    "data = pd.read_csv(\"./vgsales.csv\")"
   ]
  },
  {
   "cell_type": "code",
   "execution_count": 3,
   "metadata": {},
   "outputs": [
    {
     "name": "stdout",
     "output_type": "stream",
     "text": [
      "        rank                                              name platform  \\\n",
      "0          1                                        wii sports      wii   \n",
      "1          2                                 super mario bros.      nes   \n",
      "2          3                                    mario kart wii      wii   \n",
      "3          4                                 wii sports resort      wii   \n",
      "4          5                          pokemon red/pokemon blue       gb   \n",
      "...      ...                                               ...      ...   \n",
      "16593  16596                woody woodpecker in crazy castle 5      gba   \n",
      "16594  16597                     men in black ii: alien escape       gc   \n",
      "16595  16598  score international baja 1000: the official game      ps2   \n",
      "16596  16599                                        know how 2       ds   \n",
      "16597  16600                                  spirits & spells      gba   \n",
      "\n",
      "         year         genre   publisher na_sales eu_sales jp_sales  \\\n",
      "0      2006.0        sports    nintendo    41.49    29.02     3.77   \n",
      "1      1985.0      platform    nintendo    29.08     3.58     6.81   \n",
      "2      2008.0        racing    nintendo    15.85    12.88     3.79   \n",
      "3      2009.0        sports    nintendo    15.75    11.01     3.28   \n",
      "4      1996.0  role-playing    nintendo    11.27     8.89    10.22   \n",
      "...       ...           ...         ...      ...      ...      ...   \n",
      "16593  2002.0      platform       kemco     0.01      0.0      0.0   \n",
      "16594  2003.0       shooter  infogrames     0.01      0.0      0.0   \n",
      "16595  2008.0        racing  activision      0.0      0.0      0.0   \n",
      "16596  2010.0        puzzle    7g//ames      0.0     0.01      0.0   \n",
      "16597  2003.0      platform     wanadoo     0.01      0.0      0.0   \n",
      "\n",
      "      other_sales global_sales  \n",
      "0            8.46        82.74  \n",
      "1            0.77        40.24  \n",
      "2            3.31        35.82  \n",
      "3            2.96         33.0  \n",
      "4             1.0        31.37  \n",
      "...           ...          ...  \n",
      "16593         0.0         0.01  \n",
      "16594         0.0         0.01  \n",
      "16595         0.0         0.01  \n",
      "16596         0.0         0.01  \n",
      "16597         0.0         0.01  \n",
      "\n",
      "[16395 rows x 11 columns]\n"
     ]
    }
   ],
   "source": [
    "data = data.apply(lambda x: x.astype(str).str.lower())\n",
    "\n",
    "data.columns = data.columns.str.lower()\n",
    "\n",
    "data.to_csv('new_vgsales.csv', index=False)\n",
    "\n",
    "data = data.replace('unknown', pd.NA).dropna()\n",
    "\n",
    "print(data)"
   ]
  }
 ],
 "metadata": {
  "kernelspec": {
   "display_name": "Python 3",
   "language": "python",
   "name": "python3"
  },
  "language_info": {
   "codemirror_mode": {
    "name": "ipython",
    "version": 3
   },
   "file_extension": ".py",
   "mimetype": "text/x-python",
   "name": "python",
   "nbconvert_exporter": "python",
   "pygments_lexer": "ipython3",
   "version": "3.9.6"
  }
 },
 "nbformat": 4,
 "nbformat_minor": 2
}
