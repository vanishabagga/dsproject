{
 "cells": [
  {
   "cell_type": "code",
   "execution_count": 22,
   "metadata": {},
   "outputs": [],
   "source": [
    "import pandas as pd"
   ]
  },
  {
   "cell_type": "code",
   "execution_count": 23,
   "metadata": {},
   "outputs": [],
   "source": [
    "data = pd.read_csv('prep_csv/vgsales.csv')"
   ]
  },
  {
   "cell_type": "code",
   "execution_count": 24,
   "metadata": {},
   "outputs": [
    {
     "name": "stdout",
     "output_type": "stream",
     "text": [
      "        rank                                              name platform  \\\n",
      "0          1                                        wii sports      wii   \n",
      "1          2                                 super mario bros.      nes   \n",
      "2          3                                    mario kart wii      wii   \n",
      "3          4                                 wii sports resort      wii   \n",
      "4          5                          pokemon red/pokemon blue       gb   \n",
      "...      ...                                               ...      ...   \n",
      "16390  16391                woody woodpecker in crazy castle 5      gba   \n",
      "16391  16392                     men in black ii: alien escape       gc   \n",
      "16392  16393  score international baja 1000: the official game      ps2   \n",
      "16393  16394                                        know how 2       ds   \n",
      "16394  16395                                  spirits & spells      gba   \n",
      "\n",
      "         year         genre   publisher na_sales eu_sales jp_sales  \\\n",
      "0      2006.0        sports    nintendo    41.49    29.02     3.77   \n",
      "1      1985.0      platform    nintendo    29.08     3.58     6.81   \n",
      "2      2008.0        racing    nintendo    15.85    12.88     3.79   \n",
      "3      2009.0        sports    nintendo    15.75    11.01     3.28   \n",
      "4      1996.0  role-playing    nintendo    11.27     8.89    10.22   \n",
      "...       ...           ...         ...      ...      ...      ...   \n",
      "16390  2002.0      platform       kemco     0.01      0.0      0.0   \n",
      "16391  2003.0       shooter  infogrames     0.01      0.0      0.0   \n",
      "16392  2008.0        racing  activision      0.0      0.0      0.0   \n",
      "16393  2010.0        puzzle    7g//ames      0.0     0.01      0.0   \n",
      "16394  2003.0      platform     wanadoo     0.01      0.0      0.0   \n",
      "\n",
      "      other_sales global_sales  \n",
      "0            8.46        82.74  \n",
      "1            0.77        40.24  \n",
      "2            3.31        35.82  \n",
      "3            2.96         33.0  \n",
      "4             1.0        31.37  \n",
      "...           ...          ...  \n",
      "16390         0.0         0.01  \n",
      "16391         0.0         0.01  \n",
      "16392         0.0         0.01  \n",
      "16393         0.0         0.01  \n",
      "16394         0.0         0.01  \n",
      "\n",
      "[16395 rows x 11 columns]\n"
     ]
    }
   ],
   "source": [
    "data = data.apply(lambda x: x.astype(str).str.lower())\n",
    "\n",
    "data.columns = data.columns.str.lower()\n",
    "\n",
    "data = data.replace('unknown', pd.NA).dropna()\n",
    "\n",
    "data = data.reset_index(drop=True) \n",
    "data['rank'] = data.index + 1 \n",
    "\n",
    "data.to_csv('prep_csv/new_vgsales.csv', index=False)\n",
    "\n",
    "print(data)"
   ]
  }
 ],
 "metadata": {
  "kernelspec": {
   "display_name": "Python 3",
   "language": "python",
   "name": "python3"
  },
  "language_info": {
   "codemirror_mode": {
    "name": "ipython",
    "version": 3
   },
   "file_extension": ".py",
   "mimetype": "text/x-python",
   "name": "python",
   "nbconvert_exporter": "python",
   "pygments_lexer": "ipython3",
   "version": "3.9.6"
  }
 },
 "nbformat": 4,
 "nbformat_minor": 2
}
