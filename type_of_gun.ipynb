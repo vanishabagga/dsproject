{
 "cells": [
  {
   "cell_type": "code",
   "execution_count": 1,
   "metadata": {},
   "outputs": [
    {
     "name": "stderr",
     "output_type": "stream",
     "text": [
      "/var/folders/sb/0l1vm3yd4g9ftgyjqfjbtxvm0000gn/T/ipykernel_83106/4080736814.py:1: DeprecationWarning: \n",
      "Pyarrow will become a required dependency of pandas in the next major release of pandas (pandas 3.0),\n",
      "(to allow more performant data types, such as the Arrow string type, and better interoperability with other libraries)\n",
      "but was not found to be installed on your system.\n",
      "If this would cause problems for you,\n",
      "please provide us feedback at https://github.com/pandas-dev/pandas/issues/54466\n",
      "        \n",
      "  import pandas as pd\n"
     ]
    }
   ],
   "source": [
    "import pandas as pd"
   ]
  },
  {
   "cell_type": "code",
   "execution_count": 2,
   "metadata": {},
   "outputs": [],
   "source": [
    "data = pd.read_csv('prep_csv/new_shooting_data.csv')"
   ]
  },
  {
   "cell_type": "code",
   "execution_count": 3,
   "metadata": {},
   "outputs": [
    {
     "name": "stdout",
     "output_type": "stream",
     "text": [
      "     gun_key                                           gun_type legal_status\n",
      "0          1           .22-caliber rifle; two 12-gauge shotguns          yes\n",
      "1          2    .22-caliber ruger sawed-off semiautomatic rifle          yes\n",
      "2          3  .22-caliber sawed-off rifle; 12-gauge pump-act...          yes\n",
      "3          4  .22-caliber, two .45-caliber colt model 1911-a...          yes\n",
      "4          5  .223-caliber semi-automatic assault rifle, abo...           no\n",
      "..       ...                                                ...          ...\n",
      "108      109                                            unknown          yes\n",
      "109      110                 walther 9mm semi-automatic pistol[          yes\n",
      "110      111           wasr-10 century arms semiautomatic rifle           no\n",
      "111      112  winchester 1300 pump-action shotgun; .357 magn...          yes\n",
      "112      113  zastava serbia ak-47-style rifle, glock model ...          yes\n",
      "\n",
      "[113 rows x 3 columns]\n"
     ]
    }
   ],
   "source": [
    "guntypedata = pd.DataFrame()\n",
    "\n",
    "\n",
    "\n",
    "guntypedata['name'] = data['name']  \n",
    "guntypedata['gun_type'] = data['weapon_details']  \n",
    "\n",
    "guntypedata['legal_status'] = data['weapons_obtained_legally']\n",
    "\n",
    "guntypedata= guntypedata.apply(lambda x: x.astype(str).str.lower())\n",
    "\n",
    "guntypedata = guntypedata.groupby(['gun_type', 'legal_status']).size().reset_index(name='count')\n",
    "\n",
    "guntypedata['gun_key'] = range(1, len(guntypedata) + 1)\n",
    "\n",
    "guntypedata = guntypedata[['gun_key', 'gun_type',  'legal_status']]\n",
    "\n",
    "guntypedata.to_csv('csv/type_of_gun.csv', index=False)\n",
    "\n",
    "print(guntypedata)\n",
    "\n",
    "\n"
   ]
  },
  {
   "cell_type": "code",
   "execution_count": null,
   "metadata": {},
   "outputs": [],
   "source": []
  },
  {
   "cell_type": "code",
   "execution_count": null,
   "metadata": {},
   "outputs": [],
   "source": []
  }
 ],
 "metadata": {
  "kernelspec": {
   "display_name": "Python 3",
   "language": "python",
   "name": "python3"
  },
  "language_info": {
   "codemirror_mode": {
    "name": "ipython",
    "version": 3
   },
   "file_extension": ".py",
   "mimetype": "text/x-python",
   "name": "python",
   "nbconvert_exporter": "python",
   "pygments_lexer": "ipython3",
   "version": "3.9.6"
  }
 },
 "nbformat": 4,
 "nbformat_minor": 2
}
